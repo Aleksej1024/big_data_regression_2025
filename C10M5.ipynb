{
 "cells": [
  {
   "cell_type": "markdown",
   "id": "f4904d9b-4ca5-4e4e-8b55-9602fd85997f",
   "metadata": {},
   "source": [
    "Импорт библиотек"
   ]
  },
  {
   "cell_type": "code",
   "execution_count": 109,
   "id": "a2304d55-f6bb-42fc-9cc3-726bb9d46e6f",
   "metadata": {},
   "outputs": [],
   "source": [
    "import pandas as pd\n",
    "from sklearn.ensemble import RandomForestRegressor\n",
    "from sklearn.linear_model import LinearRegression\n",
    "import xgboost as xgb\n",
    "from xgboost import XGBRegressor\n",
    "from sklearn.metrics import r2_score\n",
    "from sklearn.metrics import root_mean_squared_error\n",
    "from sklearn.preprocessing import MinMaxScaler\n",
    "import time\n",
    "from sklearn.model_selection import train_test_split, GridSearchCV\n",
    "from sklearn.pipeline import Pipeline\n",
    "from sklearn.preprocessing import StandardScaler"
   ]
  },
  {
   "cell_type": "markdown",
   "id": "f582abe5-67ac-4db9-8caf-1cb35c0d3e6b",
   "metadata": {},
   "source": [
    "# 1 Разработка модели машинного обучения"
   ]
  },
  {
   "cell_type": "markdown",
   "id": "3fc59343-2270-4a30-bc0a-78da1990ec7a",
   "metadata": {},
   "source": [
    "Прочитаем наши данные, так как их слишком много, то возьмем первые 100_000 для обучения и 10_000 для валидации "
   ]
  },
  {
   "cell_type": "code",
   "execution_count": 116,
   "id": "3ddf531a-2a00-4b03-985a-fdb150cb4780",
   "metadata": {},
   "outputs": [],
   "source": [
    "df=pd.read_csv('./data_X.csv', nrows=1000_000, index_col=0)\n",
    "target=pd.read_csv('./data_Y.csv', nrows=1000_000, index_col=0)\n",
    "\n",
    "df_val=pd.read_csv('./data_X_val.csv', nrows=1000_000, index_col=0)\n",
    "target_val=pd.read_csv('./data_Y_val.csv', nrows=1000_000, index_col=0)"
   ]
  },
  {
   "cell_type": "markdown",
   "id": "6dcfd477-7c40-4a38-ba88-d1f722c31cb2",
   "metadata": {},
   "source": [
    "Разобьем данные на обучающую и тестовую выборки в отношении 80% к 20%, что считается устоявшимся и общепринятым в машинном обучении"
   ]
  },
  {
   "cell_type": "code",
   "execution_count": 117,
   "id": "e9051754-04e7-42d9-adcc-95b16604c3c9",
   "metadata": {},
   "outputs": [],
   "source": [
    "X_train, X_test, y_train, y_test = train_test_split(df , target, test_size=0.2, random_state=69)"
   ]
  },
  {
   "cell_type": "code",
   "execution_count": null,
   "id": "c6adb11c-f3d7-4012-8145-11ee1a99e20e",
   "metadata": {},
   "outputs": [],
   "source": [
    "trans = MinMaxScaler()\n",
    "dataset = DataFrame( trans.fit_transform(df))"
   ]
  },
  {
   "cell_type": "markdown",
   "id": "01d0c343-e30c-474d-94bf-6a462438d917",
   "metadata": {},
   "source": [
    "Создадим главную функцию для проверки метрик"
   ]
  },
  {
   "cell_type": "code",
   "execution_count": 112,
   "id": "b4989ce3-6219-4dd4-b0d6-390ca7802658",
   "metadata": {},
   "outputs": [],
   "source": [
    "def test_metrics(yt,yp):\n",
    "    print(\"R2 =\",r2_score(yt,yp))\n",
    "    print(\"RMSE = \",root_mean_squared_error(yt,yp))\n"
   ]
  },
  {
   "cell_type": "markdown",
   "id": "a4e78987-29f1-4346-b02e-48ea4429bf9d",
   "metadata": {},
   "source": [
    "Для обучения буду использовать линейную регрессию - <b>lr</b>, рандомный лес - <b>rfr</b>  и  XGбустинг - <b>xgbr</b>"
   ]
  },
  {
   "cell_type": "markdown",
   "id": "3db8cf62-e726-4f7d-8a02-68c55be0cba8",
   "metadata": {},
   "source": [
    "- Обучаем и проверяем линеную регрессию"
   ]
  },
  {
   "cell_type": "code",
   "execution_count": 113,
   "id": "66845665-8bcf-4674-927a-53ce8d48343c",
   "metadata": {},
   "outputs": [
    {
     "name": "stdout",
     "output_type": "stream",
     "text": [
      "Elapsed time:  8.180866718292236\n",
      "R2 = 0.34406478160630216\n",
      "RMSE =  956.8005113236185\n"
     ]
    }
   ],
   "source": [
    "lr = LinearRegression()\n",
    "start_time = time.time()\n",
    "lr.fit(X_train, y_train)\n",
    "end_time = time.time()\n",
    "print('Elapsed time: ', end_time - start_time)\n",
    "test_metrics(y_test,lr.predict(X_test))"
   ]
  },
  {
   "cell_type": "code",
   "execution_count": 114,
   "id": "9fc7a96e-43a7-4947-868d-4129976e1883",
   "metadata": {},
   "outputs": [],
   "source": [
    "pickle.dump(lr, open(\"lr_reg.pkl\", \"wb\"))"
   ]
  },
  {
   "cell_type": "code",
   "execution_count": 119,
   "id": "8d91eaa1-8df2-44d3-a547-777f60a6ae7a",
   "metadata": {},
   "outputs": [
    {
     "name": "stderr",
     "output_type": "stream",
     "text": [
      "/home/c10/main_venv/lib/python3.11/site-packages/sklearn/base.py:1389: DataConversionWarning: A column-vector y was passed when a 1d array was expected. Please change the shape of y to (n_samples,), for example using ravel().\n",
      "  return fit_method(estimator, *args, **kwargs)\n"
     ]
    },
    {
     "name": "stdout",
     "output_type": "stream",
     "text": [
      "Elapsed time:  205.76358580589294\n",
      "R2 = 0.6703449642130168\n",
      "RMSE =  679.3972755150041\n"
     ]
    }
   ],
   "source": [
    "rfr = RandomForestRegressor(max_depth=8)\n",
    "start_time = time.time()\n",
    "rfr.fit(X_train, y_train)\n",
    "end_time = time.time()\n",
    "print('Elapsed time: ', end_time - start_time)\n",
    "test_metrics(y_test,rfr.predict(X_test))"
   ]
  },
  {
   "cell_type": "markdown",
   "id": "6ea4aefc-7cb5-473c-9c22-742a263f50ee",
   "metadata": {},
   "source": [
    "- Обучаем и проверяем рандомный лес"
   ]
  },
  {
   "cell_type": "code",
   "execution_count": 120,
   "id": "672c65c2-cecc-43db-9871-785a676c8652",
   "metadata": {},
   "outputs": [],
   "source": [
    "pickle.dump(rfr, open(\"rfr_reg.pkl\", \"wb\"))"
   ]
  },
  {
   "cell_type": "markdown",
   "id": "46e53a7c-a75e-4690-839c-2d9e071999bd",
   "metadata": {},
   "source": [
    "- Обучаем и проверяем бустинг"
   ]
  },
  {
   "cell_type": "code",
   "execution_count": 28,
   "id": "080dbb3e-8030-4302-a2f5-986f506e9b5c",
   "metadata": {},
   "outputs": [
    {
     "name": "stdout",
     "output_type": "stream",
     "text": [
      "Elapsed time:  0.42096805572509766\n",
      "R2 = 0.8467293977737427\n",
      "RMSE =  387.08941650390625\n"
     ]
    }
   ],
   "source": [
    "xgbr=xgb.XGBRegressor(eval_metric='rmsle',random_state = 69)\n",
    "start_time = time.time()\n",
    "xgbr.fit(X_train, y_train)\n",
    "end_time = time.time()\n",
    "print('Elapsed time: ', end_time - start_time)\n",
    "test_metrics(y_test,xgbr.predict(X_test))"
   ]
  },
  {
   "cell_type": "markdown",
   "id": "79fa8a51-c19d-41b2-99b0-c4f86a9c8aa2",
   "metadata": {},
   "source": [
    "Лучшим по соотношению качества и времени оказался бустинг, его и будем использовать"
   ]
  },
  {
   "cell_type": "code",
   "execution_count": 31,
   "id": "f4069d0b-ead2-4cad-bf14-3513d768b3d1",
   "metadata": {},
   "outputs": [
    {
     "name": "stdout",
     "output_type": "stream",
     "text": [
      "R2 = 0.786888837814331\n",
      "RMSE =  388.37744140625\n"
     ]
    }
   ],
   "source": [
    "test_metrics(xgbr.predict(df_val),target_val)"
   ]
  },
  {
   "cell_type": "markdown",
   "id": "6c0cc9d2-4229-4000-b9c1-3a3797a6a557",
   "metadata": {},
   "source": [
    "Реализация функции пайплайна"
   ]
  },
  {
   "cell_type": "code",
   "execution_count": 121,
   "id": "2ff28da0-6508-4a4f-af39-5a87a9e892db",
   "metadata": {},
   "outputs": [],
   "source": [
    "def pipeline(directory):\n",
    "    df=pd.read_csv(directory+'data_X.csv', nrows=30_000_000,index_col=0)\n",
    "    target=pd.read_csv(directory+'data_Y.csv', nrows=30_000_000,index_col=0)\n",
    "\n",
    "    df_val=pd.read_csv(directory+'data_X_val.csv', nrows=10_000_000,index_col=0)\n",
    "    target_val=pd.read_csv(directory+'data_Y_val.csv', nrows=10_000_000, index_col=0)\n",
    "\n",
    "    X_train, X_test, y_train, y_test = train_test_split(df , target, test_size=0.2, random_state=69)\n",
    "    \n",
    "    xgbr=xgb.XGBRegressor(eval_metric='rmsle',random_state = 69)\n",
    "    xgbr.fit(X_train, y_train)\n",
    "\n",
    "    return xgbr, {'R2':r2_score(xgbr.predict(df_val),target_val),'RMSE':root_mean_squared_error(xgbr.predict(df_val),target_val)}\n",
    "    "
   ]
  },
  {
   "cell_type": "code",
   "execution_count": 122,
   "id": "8ac7c2a9-1548-40d9-80c4-8b92c78188c9",
   "metadata": {},
   "outputs": [],
   "source": [
    "model,data=pipeline('./')"
   ]
  },
  {
   "cell_type": "code",
   "execution_count": 123,
   "id": "71ef6c9f-9260-4cfd-8342-79217d898e40",
   "metadata": {},
   "outputs": [
    {
     "data": {
      "text/plain": [
       "{'R2': 0.5808756947517395, 'RMSE': 642.4022827148438}"
      ]
     },
     "execution_count": 123,
     "metadata": {},
     "output_type": "execute_result"
    }
   ],
   "source": [
    "data"
   ]
  },
  {
   "cell_type": "code",
   "execution_count": 124,
   "id": "81d02652-4824-499b-922e-ae32bb4e6de4",
   "metadata": {},
   "outputs": [],
   "source": [
    "import pickle\n",
    "file_name = \"xgb_reg.pkl\"\n",
    "\n",
    "# save\n",
    "pickle.dump(model, open(file_name, \"wb\"))\n",
    "\n",
    "# load\n",
    "xgb_model_loaded = pickle.load(open(file_name, \"rb\"))"
   ]
  },
  {
   "cell_type": "code",
   "execution_count": 70,
   "id": "acca773d-5ad5-4b29-8336-fe1274f1cc01",
   "metadata": {},
   "outputs": [
    {
     "data": {
      "text/plain": [
       "{'R2': -120.25090026855469, 'RMSE': 305332.8125}"
      ]
     },
     "execution_count": 70,
     "metadata": {},
     "output_type": "execute_result"
    }
   ],
   "source": [
    "data"
   ]
  },
  {
   "cell_type": "markdown",
   "id": "a290dbfe-42f9-44b4-979e-7d149f0b9454",
   "metadata": {},
   "source": [
    "Функция пайпалайна работает"
   ]
  },
  {
   "cell_type": "code",
   "execution_count": 67,
   "id": "d0199821-31e6-4209-9b8f-7ffdc7ee6392",
   "metadata": {},
   "outputs": [
    {
     "data": {
      "text/plain": [
       "{'R2': -20.860586166381836, 'RMSE': 248390.46875}"
      ]
     },
     "execution_count": 67,
     "metadata": {},
     "output_type": "execute_result"
    }
   ],
   "source": [
    "data"
   ]
  },
  {
   "cell_type": "code",
   "execution_count": 125,
   "id": "1bc8ffdc-b5a4-475c-b0fe-838933794335",
   "metadata": {},
   "outputs": [],
   "source": [
    "df_val_test=pd.read_csv('./data_X_val.csv', nrows=10, index_col=0 )\n"
   ]
  },
  {
   "cell_type": "code",
   "execution_count": 103,
   "id": "9151c58e-62b5-4a38-a253-a5d36e00f45e",
   "metadata": {},
   "outputs": [
    {
     "data": {
      "text/html": [
       "<div>\n",
       "<style scoped>\n",
       "    .dataframe tbody tr th:only-of-type {\n",
       "        vertical-align: middle;\n",
       "    }\n",
       "\n",
       "    .dataframe tbody tr th {\n",
       "        vertical-align: top;\n",
       "    }\n",
       "\n",
       "    .dataframe thead th {\n",
       "        text-align: right;\n",
       "    }\n",
       "</style>\n",
       "<table border=\"1\" class=\"dataframe\">\n",
       "  <thead>\n",
       "    <tr style=\"text-align: right;\">\n",
       "      <th></th>\n",
       "      <th>0</th>\n",
       "      <th>1</th>\n",
       "      <th>2</th>\n",
       "      <th>3</th>\n",
       "      <th>4</th>\n",
       "      <th>5</th>\n",
       "      <th>7</th>\n",
       "      <th>8</th>\n",
       "      <th>9</th>\n",
       "      <th>10</th>\n",
       "      <th>...</th>\n",
       "      <th>18</th>\n",
       "      <th>19</th>\n",
       "      <th>20</th>\n",
       "      <th>21</th>\n",
       "      <th>22</th>\n",
       "      <th>23</th>\n",
       "      <th>25</th>\n",
       "      <th>26</th>\n",
       "      <th>27</th>\n",
       "      <th>29</th>\n",
       "    </tr>\n",
       "  </thead>\n",
       "  <tbody>\n",
       "    <tr>\n",
       "      <th>0</th>\n",
       "      <td>5</td>\n",
       "      <td>-2</td>\n",
       "      <td>2</td>\n",
       "      <td>0</td>\n",
       "      <td>0</td>\n",
       "      <td>4</td>\n",
       "      <td>0</td>\n",
       "      <td>0</td>\n",
       "      <td>0</td>\n",
       "      <td>-3</td>\n",
       "      <td>...</td>\n",
       "      <td>0</td>\n",
       "      <td>0</td>\n",
       "      <td>4</td>\n",
       "      <td>54562568</td>\n",
       "      <td>0</td>\n",
       "      <td>3</td>\n",
       "      <td>30</td>\n",
       "      <td>-24</td>\n",
       "      <td>4</td>\n",
       "      <td>-24</td>\n",
       "    </tr>\n",
       "    <tr>\n",
       "      <th>1</th>\n",
       "      <td>394</td>\n",
       "      <td>0</td>\n",
       "      <td>1</td>\n",
       "      <td>0</td>\n",
       "      <td>0</td>\n",
       "      <td>2</td>\n",
       "      <td>0</td>\n",
       "      <td>0</td>\n",
       "      <td>0</td>\n",
       "      <td>7</td>\n",
       "      <td>...</td>\n",
       "      <td>0</td>\n",
       "      <td>0</td>\n",
       "      <td>6</td>\n",
       "      <td>4747</td>\n",
       "      <td>0</td>\n",
       "      <td>5</td>\n",
       "      <td>23</td>\n",
       "      <td>-7</td>\n",
       "      <td>-28</td>\n",
       "      <td>0</td>\n",
       "    </tr>\n",
       "    <tr>\n",
       "      <th>2</th>\n",
       "      <td>776</td>\n",
       "      <td>0</td>\n",
       "      <td>1</td>\n",
       "      <td>0</td>\n",
       "      <td>0</td>\n",
       "      <td>1</td>\n",
       "      <td>0</td>\n",
       "      <td>0</td>\n",
       "      <td>0</td>\n",
       "      <td>4</td>\n",
       "      <td>...</td>\n",
       "      <td>-4</td>\n",
       "      <td>0</td>\n",
       "      <td>10</td>\n",
       "      <td>5028991</td>\n",
       "      <td>0</td>\n",
       "      <td>13</td>\n",
       "      <td>81</td>\n",
       "      <td>-16</td>\n",
       "      <td>0</td>\n",
       "      <td>6</td>\n",
       "    </tr>\n",
       "    <tr>\n",
       "      <th>3</th>\n",
       "      <td>594</td>\n",
       "      <td>-4</td>\n",
       "      <td>1</td>\n",
       "      <td>0</td>\n",
       "      <td>0</td>\n",
       "      <td>4</td>\n",
       "      <td>0</td>\n",
       "      <td>0</td>\n",
       "      <td>0</td>\n",
       "      <td>0</td>\n",
       "      <td>...</td>\n",
       "      <td>-1</td>\n",
       "      <td>0</td>\n",
       "      <td>11</td>\n",
       "      <td>29</td>\n",
       "      <td>0</td>\n",
       "      <td>7</td>\n",
       "      <td>161</td>\n",
       "      <td>-20</td>\n",
       "      <td>0</td>\n",
       "      <td>-32</td>\n",
       "    </tr>\n",
       "    <tr>\n",
       "      <th>4</th>\n",
       "      <td>196</td>\n",
       "      <td>0</td>\n",
       "      <td>1</td>\n",
       "      <td>0</td>\n",
       "      <td>0</td>\n",
       "      <td>1</td>\n",
       "      <td>0</td>\n",
       "      <td>0</td>\n",
       "      <td>0</td>\n",
       "      <td>3</td>\n",
       "      <td>...</td>\n",
       "      <td>-1</td>\n",
       "      <td>0</td>\n",
       "      <td>4</td>\n",
       "      <td>27311095</td>\n",
       "      <td>0</td>\n",
       "      <td>10</td>\n",
       "      <td>35</td>\n",
       "      <td>5</td>\n",
       "      <td>0</td>\n",
       "      <td>-19</td>\n",
       "    </tr>\n",
       "  </tbody>\n",
       "</table>\n",
       "<p>5 rows × 24 columns</p>\n",
       "</div>"
      ],
      "text/plain": [
       "     0  1  2  3  4  5  7  8  9  10  ...  18  19  20        21  22  23   25  \\\n",
       "0    5 -2  2  0  0  4  0  0  0  -3  ...   0   0   4  54562568   0   3   30   \n",
       "1  394  0  1  0  0  2  0  0  0   7  ...   0   0   6      4747   0   5   23   \n",
       "2  776  0  1  0  0  1  0  0  0   4  ...  -4   0  10   5028991   0  13   81   \n",
       "3  594 -4  1  0  0  4  0  0  0   0  ...  -1   0  11        29   0   7  161   \n",
       "4  196  0  1  0  0  1  0  0  0   3  ...  -1   0   4  27311095   0  10   35   \n",
       "\n",
       "   26  27  29  \n",
       "0 -24   4 -24  \n",
       "1  -7 -28   0  \n",
       "2 -16   0   6  \n",
       "3 -20   0 -32  \n",
       "4   5   0 -19  \n",
       "\n",
       "[5 rows x 24 columns]"
      ]
     },
     "execution_count": 103,
     "metadata": {},
     "output_type": "execute_result"
    }
   ],
   "source": [
    "df_val_test.head()"
   ]
  },
  {
   "cell_type": "code",
   "execution_count": 126,
   "id": "a6b8f972-f124-4d9b-8da5-195fdb75144b",
   "metadata": {},
   "outputs": [],
   "source": [
    "df_val_test.to_csv('test.csv')"
   ]
  }
 ],
 "metadata": {
  "kernelspec": {
   "display_name": "Python 3 (ipykernel)",
   "language": "python",
   "name": "python3"
  },
  "language_info": {
   "codemirror_mode": {
    "name": "ipython",
    "version": 3
   },
   "file_extension": ".py",
   "mimetype": "text/x-python",
   "name": "python",
   "nbconvert_exporter": "python",
   "pygments_lexer": "ipython3",
   "version": "3.11.2"
  }
 },
 "nbformat": 4,
 "nbformat_minor": 5
}
